{
  "cells": [
    {
      "cell_type": "markdown",
      "metadata": {},
      "source": [
        "with max of feature = 100,000 and 50,000, the k-fold evaluation method changed into train-test with rasio 80:20"
      ]
    },
    {
      "cell_type": "markdown",
      "metadata": {
        "id": "KzMEeOkavMjV"
      },
      "source": [
        "# 1. Setup dataset and libraries"
      ]
    },
    {
      "cell_type": "markdown",
      "metadata": {
        "id": "3ebk9Wc27HcE"
      },
      "source": [
        "## import libraries"
      ]
    },
    {
      "cell_type": "code",
      "execution_count": 1,
      "metadata": {
        "id": "iD-zvW7a7HF_"
      },
      "outputs": [],
      "source": [
        "import pandas as pd\n",
        "import numpy as np\n",
        "import matplotlib.pyplot as plt\n",
        "\n",
        "from tqdm import tqdm\n",
        "import time\n",
        "\n",
        "from scipy.sparse import csr_matrix, vstack\n",
        "from sklearn.metrics import accuracy_score, precision_score, recall_score, f1_score, classification_report, confusion_matrix, ConfusionMatrixDisplay, mean_squared_error\n",
        "from sklearn.feature_extraction.text import CountVectorizer\n",
        "from sklearn.naive_bayes import GaussianNB\n",
        "\n",
        "folder_path = \"..../dataset/\""
      ]
    },
    {
      "cell_type": "markdown",
      "metadata": {
        "id": "v4cZOKjENEX2"
      },
      "source": [
        "# 2. Read train and test processed data "
      ]
    },
    {
      "cell_type": "code",
      "execution_count": 2,
      "metadata": {},
      "outputs": [
        {
          "data": {
            "text/html": [
              "<div>\n",
              "<style scoped>\n",
              "    .dataframe tbody tr th:only-of-type {\n",
              "        vertical-align: middle;\n",
              "    }\n",
              "\n",
              "    .dataframe tbody tr th {\n",
              "        vertical-align: top;\n",
              "    }\n",
              "\n",
              "    .dataframe thead th {\n",
              "        text-align: right;\n",
              "    }\n",
              "</style>\n",
              "<table border=\"1\" class=\"dataframe\">\n",
              "  <thead>\n",
              "    <tr style=\"text-align: right;\">\n",
              "      <th></th>\n",
              "      <th>review</th>\n",
              "      <th>merged_tokens_one</th>\n",
              "      <th>merged_tokens_many</th>\n",
              "      <th>sentiment</th>\n",
              "      <th>sentiment_number</th>\n",
              "    </tr>\n",
              "  </thead>\n",
              "  <tbody>\n",
              "    <tr>\n",
              "      <th>0</th>\n",
              "      <td>There have been many movies featuring Bigfoot,...</td>\n",
              "      <td>mani movi featur bigfoot major good least goof...</td>\n",
              "      <td>mani movi featur bigfoot major good least goof...</td>\n",
              "      <td>negative</td>\n",
              "      <td>0</td>\n",
              "    </tr>\n",
              "    <tr>\n",
              "      <th>1</th>\n",
              "      <td>The plot: A crime lord is uniting 3 different ...</td>\n",
              "      <td>plot crime lord unit differ mafia entrepris bu...</td>\n",
              "      <td>plot crime lord unit differ mafia entrepris bu...</td>\n",
              "      <td>positive</td>\n",
              "      <td>1</td>\n",
              "    </tr>\n",
              "    <tr>\n",
              "      <th>2</th>\n",
              "      <td>It's great to hear the 3 or so comments, that ...</td>\n",
              "      <td>great hear comment point footbal wive signifi ...</td>\n",
              "      <td>great hear comment point footbal wive signifi ...</td>\n",
              "      <td>negative</td>\n",
              "      <td>0</td>\n",
              "    </tr>\n",
              "    <tr>\n",
              "      <th>3</th>\n",
              "      <td>A great story, based on a true story about a y...</td>\n",
              "      <td>great stori base true stori young black man di...</td>\n",
              "      <td>great stori base true stori young black man di...</td>\n",
              "      <td>positive</td>\n",
              "      <td>1</td>\n",
              "    </tr>\n",
              "    <tr>\n",
              "      <th>4</th>\n",
              "      <td>This film is the proof that a good actor is no...</td>\n",
              "      <td>film proof good actor noth without good direct...</td>\n",
              "      <td>film proof good actor noth without good direct...</td>\n",
              "      <td>negative</td>\n",
              "      <td>0</td>\n",
              "    </tr>\n",
              "  </tbody>\n",
              "</table>\n",
              "</div>"
            ],
            "text/plain": [
              "                                              review  \\\n",
              "0  There have been many movies featuring Bigfoot,...   \n",
              "1  The plot: A crime lord is uniting 3 different ...   \n",
              "2  It's great to hear the 3 or so comments, that ...   \n",
              "3  A great story, based on a true story about a y...   \n",
              "4  This film is the proof that a good actor is no...   \n",
              "\n",
              "                                   merged_tokens_one  \\\n",
              "0  mani movi featur bigfoot major good least goof...   \n",
              "1  plot crime lord unit differ mafia entrepris bu...   \n",
              "2  great hear comment point footbal wive signifi ...   \n",
              "3  great stori base true stori young black man di...   \n",
              "4  film proof good actor noth without good direct...   \n",
              "\n",
              "                                  merged_tokens_many sentiment  \\\n",
              "0  mani movi featur bigfoot major good least goof...  negative   \n",
              "1  plot crime lord unit differ mafia entrepris bu...  positive   \n",
              "2  great hear comment point footbal wive signifi ...  negative   \n",
              "3  great stori base true stori young black man di...  positive   \n",
              "4  film proof good actor noth without good direct...  negative   \n",
              "\n",
              "   sentiment_number  \n",
              "0                 0  \n",
              "1                 1  \n",
              "2                 0  \n",
              "3                 1  \n",
              "4                 0  "
            ]
          },
          "execution_count": 2,
          "metadata": {},
          "output_type": "execute_result"
        }
      ],
      "source": [
        "df_train = pd.read_csv( folder_path+\"processed_movie_dataset_train.csv\" )\n",
        "df_train.head( 5 )"
      ]
    },
    {
      "cell_type": "code",
      "execution_count": 3,
      "metadata": {},
      "outputs": [
        {
          "data": {
            "text/html": [
              "<div>\n",
              "<style scoped>\n",
              "    .dataframe tbody tr th:only-of-type {\n",
              "        vertical-align: middle;\n",
              "    }\n",
              "\n",
              "    .dataframe tbody tr th {\n",
              "        vertical-align: top;\n",
              "    }\n",
              "\n",
              "    .dataframe thead th {\n",
              "        text-align: right;\n",
              "    }\n",
              "</style>\n",
              "<table border=\"1\" class=\"dataframe\">\n",
              "  <thead>\n",
              "    <tr style=\"text-align: right;\">\n",
              "      <th></th>\n",
              "      <th>review</th>\n",
              "      <th>merged_tokens_one</th>\n",
              "      <th>merged_tokens_many</th>\n",
              "      <th>sentiment</th>\n",
              "      <th>sentiment_number</th>\n",
              "    </tr>\n",
              "  </thead>\n",
              "  <tbody>\n",
              "    <tr>\n",
              "      <th>0</th>\n",
              "      <td>I gave this movie a chance only because it had...</td>\n",
              "      <td>gave movi chanc good review see trailer though...</td>\n",
              "      <td>gave movi chanc good review. see trailer thoug...</td>\n",
              "      <td>negative</td>\n",
              "      <td>0</td>\n",
              "    </tr>\n",
              "    <tr>\n",
              "      <th>1</th>\n",
              "      <td>This is full of major spoilers, so beware.&lt;br ...</td>\n",
              "      <td>full major spoiler bewar prix de beaut alway s...</td>\n",
              "      <td>full major spoiler bewar. prix de beaut alway ...</td>\n",
              "      <td>positive</td>\n",
              "      <td>1</td>\n",
              "    </tr>\n",
              "    <tr>\n",
              "      <th>2</th>\n",
              "      <td>Never saw the original movie in the series...I...</td>\n",
              "      <td>never saw origin movi seri hope much better mo...</td>\n",
              "      <td>never saw origin movi seri hope much better mo...</td>\n",
              "      <td>negative</td>\n",
              "      <td>0</td>\n",
              "    </tr>\n",
              "    <tr>\n",
              "      <th>3</th>\n",
              "      <td>This is a film that is far more enjoyable than...</td>\n",
              "      <td>film far enjoy rate would suggest mani way lik...</td>\n",
              "      <td>film far enjoy rate would suggest. mani way li...</td>\n",
              "      <td>positive</td>\n",
              "      <td>1</td>\n",
              "    </tr>\n",
              "    <tr>\n",
              "      <th>4</th>\n",
              "      <td>This was intolerable. (SPOILER #1) Protagonist...</td>\n",
              "      <td>intoler spoiler protagonist avoid pointless di...</td>\n",
              "      <td>intoler. spoiler protagonist avoid pointless d...</td>\n",
              "      <td>negative</td>\n",
              "      <td>0</td>\n",
              "    </tr>\n",
              "  </tbody>\n",
              "</table>\n",
              "</div>"
            ],
            "text/plain": [
              "                                              review  \\\n",
              "0  I gave this movie a chance only because it had...   \n",
              "1  This is full of major spoilers, so beware.<br ...   \n",
              "2  Never saw the original movie in the series...I...   \n",
              "3  This is a film that is far more enjoyable than...   \n",
              "4  This was intolerable. (SPOILER #1) Protagonist...   \n",
              "\n",
              "                                   merged_tokens_one  \\\n",
              "0  gave movi chanc good review see trailer though...   \n",
              "1  full major spoiler bewar prix de beaut alway s...   \n",
              "2  never saw origin movi seri hope much better mo...   \n",
              "3  film far enjoy rate would suggest mani way lik...   \n",
              "4  intoler spoiler protagonist avoid pointless di...   \n",
              "\n",
              "                                  merged_tokens_many sentiment  \\\n",
              "0  gave movi chanc good review. see trailer thoug...  negative   \n",
              "1  full major spoiler bewar. prix de beaut alway ...  positive   \n",
              "2  never saw origin movi seri hope much better mo...  negative   \n",
              "3  film far enjoy rate would suggest. mani way li...  positive   \n",
              "4  intoler. spoiler protagonist avoid pointless d...  negative   \n",
              "\n",
              "   sentiment_number  \n",
              "0                 0  \n",
              "1                 1  \n",
              "2                 0  \n",
              "3                 1  \n",
              "4                 0  "
            ]
          },
          "execution_count": 3,
          "metadata": {},
          "output_type": "execute_result"
        }
      ],
      "source": [
        "df_test = pd.read_csv( folder_path+\"processed_movie_dataset_test.csv\" )\n",
        "df_test.head( 5 )"
      ]
    },
    {
      "cell_type": "markdown",
      "metadata": {},
      "source": [
        "## set train and test set variables"
      ]
    },
    {
      "cell_type": "code",
      "execution_count": 4,
      "metadata": {},
      "outputs": [],
      "source": [
        "# target variables\n",
        "y_train = df_train['sentiment_number'].copy()\n",
        "y_test  = df_test['sentiment_number'].copy()\n",
        "\n",
        "# depended variables\n",
        "X_train_ori = df_train['review']\n",
        "X_test_ori  = df_test['review']\n",
        "\n",
        "X_tokens_one_train  = df_train['merged_tokens_one'].copy()\n",
        "X_tokens_one_test   = df_test['merged_tokens_one'].copy()\n",
        "\n",
        "X_tokens_many_train = df_train['merged_tokens_many'].copy()\n",
        "X_tokens_many_test  = df_test['merged_tokens_many'].copy()"
      ]
    },
    {
      "cell_type": "markdown",
      "metadata": {},
      "source": [
        "# 3. Continue Feature Extraction Step by using vectorizer\n",
        "\n",
        "ref:\n",
        "- https://www.analyticsvidhya.com/blog/2021/09/what-are-n-grams-and-how-to-implement-them-in-python/\n",
        "- https://www.geeksforgeeks.org/using-countvectorizer-to-extracting-features-from-text/\n",
        "- ChatGPT"
      ]
    },
    {
      "cell_type": "markdown",
      "metadata": {
        "id": "-CQEXANQxYgN"
      },
      "source": [
        "## set vectorizer"
      ]
    },
    {
      "cell_type": "markdown",
      "metadata": {
        "id": "DK2ttA4gwlYJ"
      },
      "source": [
        "### create vectorizer function with different settings of ngram"
      ]
    },
    {
      "cell_type": "code",
      "execution_count": 5,
      "metadata": {
        "id": "muMeJV4MxF7X"
      },
      "outputs": [],
      "source": [
        "# to create a vectorizer with sklearn countvectorizer function\n",
        "def create_vectorizer( input_docs, ngram_start=1, ngram_end=1, max_features_number=1000 ):\n",
        "  # create a corpus from input documents\n",
        "  corpus = \" \".join( input_docs )\n",
        "\n",
        "  # create a CountVectorizer object with desired n-gram range\n",
        "  vectorizer = CountVectorizer( max_features=max_features_number, ngram_range=( ngram_start, ngram_end ), binary=True )\n",
        "\n",
        "  # fit the vectorizer to the concatenated corpus\n",
        "  vectorizer.fit( [ corpus ] )\n",
        "\n",
        "  # get the shared vocabulary of n-grams\n",
        "  vocabulary = vectorizer.get_feature_names_out()\n",
        "\n",
        "  # return vocab list and the vectrizer obj\n",
        "  return vocabulary, vectorizer\n",
        "# end func"
      ]
    },
    {
      "cell_type": "markdown",
      "metadata": {},
      "source": [
        "### since there's limitation with the computation of array size, the max features for each vectorizer are assigned default in the create_vectorizer function"
      ]
    },
    {
      "cell_type": "markdown",
      "metadata": {},
      "source": [
        "#### create vectorizer with train set and max features 100k"
      ]
    },
    {
      "cell_type": "code",
      "execution_count": 6,
      "metadata": {
        "id": "93So3Yoeql3O"
      },
      "outputs": [
        {
          "name": "stdout",
          "output_type": "stream",
          "text": [
            "len of unigram_vocab_100k: 38837\n",
            "len of bigram_vocab_100k: 100000\n",
            "len of trigram_vocab_100k: 100000\n",
            "len of unibigram_vocab_100k: 100000\n",
            "len of unibitrigram_vocab_100k: 100000\n"
          ]
        }
      ],
      "source": [
        "# create ngrams for models with max features is 100,000 or 100k\n",
        "unigram_vocab_100k, unigram_vectorizer_100k           = create_vectorizer( df_train['merged_tokens_one'], 1, 1, 100000 )\n",
        "bigram_vocab_100k, bigram_vectorizer_100k             = create_vectorizer( df_train['merged_tokens_one'], 2, 2, 100000 )\n",
        "trigram_vocab_100k, trigram_vectorizer_100k           = create_vectorizer( df_train['merged_tokens_one'], 3, 3, 100000 )\n",
        "unibigram_vocab_100k, unibigram_vectorizer_100k       = create_vectorizer( df_train['merged_tokens_one'], 1, 2, 100000 )\n",
        "unibitrigram_vocab_100k, unibitrigram_vectorizer_100k = create_vectorizer( df_train['merged_tokens_one'], 1, 3, 100000 )\n",
        "\n",
        "# check current length of vocabulary on each ngram vectorizer\n",
        "print( \"len of unigram_vocab_100k:\", len( unigram_vocab_100k ) )\n",
        "print( \"len of bigram_vocab_100k:\", len( bigram_vocab_100k ) )\n",
        "print( \"len of trigram_vocab_100k:\", len( trigram_vocab_100k ) )\n",
        "print( \"len of unibigram_vocab_100k:\", len( unibigram_vocab_100k ) )\n",
        "print( \"len of unibitrigram_vocab_100k:\", len( unibitrigram_vocab_100k ) )"
      ]
    },
    {
      "cell_type": "markdown",
      "metadata": {},
      "source": [
        "#### create vectorizer with train set and max features 50k"
      ]
    },
    {
      "cell_type": "code",
      "execution_count": 7,
      "metadata": {},
      "outputs": [
        {
          "name": "stdout",
          "output_type": "stream",
          "text": [
            "len of unigram_vocab_50k: 38837\n",
            "len of bigram_vocab_50k: 50000\n",
            "len of trigram_vocab_50k: 50000\n",
            "len of unibigram_vocab_50k: 50000\n",
            "len of unibitrigram_vocab_50k: 50000\n"
          ]
        }
      ],
      "source": [
        "# create ngrams for models\n",
        "unigram_vocab_50k, unigram_vectorizer_50k           = create_vectorizer( df_train['merged_tokens_one'], 1, 1, 50000 )\n",
        "bigram_vocab_50k, bigram_vectorizer_50k             = create_vectorizer( df_train['merged_tokens_one'], 2, 2, 50000 )\n",
        "trigram_vocab_50k, trigram_vectorizer_50k           = create_vectorizer( df_train['merged_tokens_one'], 3, 3, 50000 )\n",
        "unibigram_vocab_50k, unibigram_vectorizer_50k       = create_vectorizer( df_train['merged_tokens_one'], 1, 2, 50000 )\n",
        "unibitrigram_vocab_50k, unibitrigram_vectorizer_50k = create_vectorizer( df_train['merged_tokens_one'], 1, 3, 50000 )\n",
        "\n",
        "# check current length of vocabulary on each ngram vectorizer\n",
        "print( \"len of unigram_vocab_50k:\", len( unigram_vocab_50k ) )\n",
        "print( \"len of bigram_vocab_50k:\", len( bigram_vocab_50k ) )\n",
        "print( \"len of trigram_vocab_50k:\", len( trigram_vocab_50k ) )\n",
        "print( \"len of unibigram_vocab_50k:\", len( unibigram_vocab_50k ) )\n",
        "print( \"len of unibitrigram_vocab_50k:\", len( unibitrigram_vocab_50k ) )"
      ]
    },
    {
      "cell_type": "markdown",
      "metadata": {
        "id": "wpnb8fEdC6bR"
      },
      "source": [
        "#### transform all review tokens with created vectorizers"
      ]
    },
    {
      "cell_type": "code",
      "execution_count": 8,
      "metadata": {
        "id": "GXuB7rAUGQL8"
      },
      "outputs": [],
      "source": [
        "# to transform each sentence from one review and merge it into one sparse matrix\n",
        "def transform_text_per_sentence( input_docs, input_vectorizer ):\n",
        "  # Initialize list to store merged sparse matrices for each review\n",
        "  all_sparse_matrices = []\n",
        "  # all_sparse_matrices = None\n",
        "\n",
        "  # loop all review data\n",
        "  for input_text in input_docs:\n",
        "    # split each sentence from input text\n",
        "    splited_txt = input_text.split( \". \" )\n",
        "\n",
        "    # initialize merged matrix\n",
        "    merged_sparse_matrix = None\n",
        "\n",
        "    # Loop through each document's vector and perform OR operation\n",
        "    for sentence in splited_txt:\n",
        "      # transform each sentence with vectorizer and transform its form into sprase matrix\n",
        "      one_sparse_matrix = input_vectorizer.transform( [ sentence ] ).astype( int )\n",
        "\n",
        "      # combine with previous sparse matrix\n",
        "      # if merged_sparse_matrix is None:\n",
        "      if merged_sparse_matrix is None:\n",
        "        merged_sparse_matrix = one_sparse_matrix.toarray()\n",
        "      else:\n",
        "        # Perform OR operation with the result vector\n",
        "        merged_sparse_matrix = np.logical_or( merged_sparse_matrix, one_sparse_matrix.toarray() ).astype( int )\n",
        "      # end if\n",
        "    # end loop\n",
        "\n",
        "    # convert into sparse matrix\n",
        "    merged_sparse_matrix = csr_matrix( merged_sparse_matrix )\n",
        "\n",
        "    # append the merged sparse matrix into the final matrix list\n",
        "    all_sparse_matrices.append( merged_sparse_matrix )\n",
        "  # end loop\n",
        "\n",
        "  # return final result with stacking all the created matrices\n",
        "  return vstack( all_sparse_matrices )\n",
        "# end func\n"
      ]
    },
    {
      "cell_type": "markdown",
      "metadata": {},
      "source": [
        "#### create unigram matrixes as X_data"
      ]
    },
    {
      "cell_type": "markdown",
      "metadata": {},
      "source": [
        "n-grams matrixes with max features 100k"
      ]
    },
    {
      "cell_type": "code",
      "execution_count": 9,
      "metadata": {
        "colab": {
          "base_uri": "https://localhost:8080/"
        },
        "id": "lFB9_iDwoBBL",
        "outputId": "79db5d80-6c31-4c94-f697-a25fcc4bbb86"
      },
      "outputs": [],
      "source": [
        "# unigram matrixes\n",
        "# a) with one token sentence\n",
        "X_unigram_matrix_100k_sentence_one_train = unigram_vectorizer_100k.transform( X_tokens_one_train )\n",
        "X_unigram_matrix_100k_sentence_one_test  = unigram_vectorizer_100k.transform( X_tokens_one_test )\n",
        "# b) with many token sentence\n",
        "X_unigram_matrix_100k_sentence_many_train = transform_text_per_sentence( X_tokens_many_train, unigram_vectorizer_100k )\n",
        "X_unigram_matrix_100k_sentence_many_test  = transform_text_per_sentence( X_tokens_many_test, unigram_vectorizer_100k )\n",
        "\n",
        "\n",
        "# bigram matrixes\n",
        "# a) with one token sentence\n",
        "X_bigram_matrix_100k_sentence_one_train = bigram_vectorizer_100k.transform( X_tokens_one_train )\n",
        "X_bigram_matrix_100k_sentence_one_test  = bigram_vectorizer_100k.transform( X_tokens_one_test )\n",
        "# b) with many token sentence\n",
        "X_bigram_matrix_100k_sentence_many_train = transform_text_per_sentence( X_tokens_many_train, bigram_vectorizer_100k )\n",
        "X_bigram_matrix_100k_sentence_many_test  = transform_text_per_sentence( X_tokens_many_test, bigram_vectorizer_100k )\n",
        "\n",
        "\n",
        "# trigram matrixes\n",
        "# a) with one token sentence\n",
        "X_trigram_matrix_100k_sentence_one_train = trigram_vectorizer_100k.transform( X_tokens_one_train )\n",
        "X_trigram_matrix_100k_sentence_one_test  = trigram_vectorizer_100k.transform( X_tokens_one_test )\n",
        "# b) with many token sentence\n",
        "X_trigram_matrix_100k_sentence_many_train = transform_text_per_sentence( X_tokens_many_train, trigram_vectorizer_100k )\n",
        "X_trigram_matrix_100k_sentence_many_test  = transform_text_per_sentence( X_tokens_many_test, trigram_vectorizer_100k )\n",
        "\n",
        "\n",
        "# unibigram matrixes ( unigram + bigram matrixes )\n",
        "# a) with one token sentence\n",
        "X_unibigram_matrix_100k_sentence_one_train = unibigram_vectorizer_100k.transform( X_tokens_one_train )\n",
        "X_unibigram_matrix_100k_sentence_one_test  = unibigram_vectorizer_100k.transform( X_tokens_one_test )\n",
        "# b) with many token sentence\n",
        "X_unibigram_matrix_100k_sentence_many_train = transform_text_per_sentence( X_tokens_many_train, unibigram_vectorizer_100k )\n",
        "X_unibigram_matrix_100k_sentence_many_test  = transform_text_per_sentence( X_tokens_many_test, unibigram_vectorizer_100k )\n",
        "\n",
        "\n",
        "# unibitrigram matrixes ( unigram + bigram + trigram matrixes )\n",
        "# a) with one token sentence\n",
        "X_unibitrigram_matrix_100k_sentence_one_train = unibitrigram_vectorizer_100k.transform( X_tokens_one_train )\n",
        "X_unibitrigram_matrix_100k_sentence_one_test  = unibitrigram_vectorizer_100k.transform( X_tokens_one_test )\n",
        "# b) with many token sentence\n",
        "X_unibitrigram_matrix_100k_sentence_many_train = transform_text_per_sentence( X_tokens_many_train, unibitrigram_vectorizer_100k )\n",
        "X_unibitrigram_matrix_100k_sentence_many_test  = transform_text_per_sentence( X_tokens_many_test, unibitrigram_vectorizer_100k )\n"
      ]
    },
    {
      "cell_type": "markdown",
      "metadata": {},
      "source": [
        "n-grams matrixes with max features 50k"
      ]
    },
    {
      "cell_type": "code",
      "execution_count": 10,
      "metadata": {},
      "outputs": [],
      "source": [
        "# unigram matrixes\n",
        "# a) with one token sentence\n",
        "X_unigram_matrix_50k_sentence_one_train = unigram_vectorizer_50k.transform( X_tokens_one_train )\n",
        "X_unigram_matrix_50k_sentence_one_test  = unigram_vectorizer_50k.transform( X_tokens_one_test )\n",
        "# b) with many token sentence\n",
        "X_unigram_matrix_50k_sentence_many_train = transform_text_per_sentence( X_tokens_many_train, unigram_vectorizer_50k )\n",
        "X_unigram_matrix_50k_sentence_many_test  = transform_text_per_sentence( X_tokens_many_test, unigram_vectorizer_50k )\n",
        "\n",
        "\n",
        "# bigram matrixes\n",
        "# a) with one token sentence\n",
        "X_bigram_matrix_50k_sentence_one_train = bigram_vectorizer_50k.transform( X_tokens_one_train )\n",
        "X_bigram_matrix_50k_sentence_one_test  = bigram_vectorizer_50k.transform( X_tokens_one_test )\n",
        "# b) with many token sentence\n",
        "X_bigram_matrix_50k_sentence_many_train = transform_text_per_sentence( X_tokens_many_train, bigram_vectorizer_50k )\n",
        "X_bigram_matrix_50k_sentence_many_test  = transform_text_per_sentence( X_tokens_many_test, bigram_vectorizer_50k )\n",
        "\n",
        "\n",
        "# trigram matrixes\n",
        "# a) with one token sentence\n",
        "X_trigram_matrix_50k_sentence_one_train = trigram_vectorizer_50k.transform( X_tokens_one_train )\n",
        "X_trigram_matrix_50k_sentence_one_test  = trigram_vectorizer_50k.transform( X_tokens_one_test )\n",
        "# b) with many token sentence\n",
        "X_trigram_matrix_50k_sentence_many_train = transform_text_per_sentence( X_tokens_many_train, trigram_vectorizer_50k )\n",
        "X_trigram_matrix_50k_sentence_many_test  = transform_text_per_sentence( X_tokens_many_test, trigram_vectorizer_50k )\n",
        "\n",
        "\n",
        "# unibigram matrixes ( unigram + bigram matrixes )\n",
        "# a) with one token sentence\n",
        "X_unibigram_matrix_50k_sentence_one_train = unibigram_vectorizer_50k.transform( X_tokens_one_train )\n",
        "X_unibigram_matrix_50k_sentence_one_test  = unibigram_vectorizer_50k.transform( X_tokens_one_test )\n",
        "# b) with many token sentence\n",
        "X_unibigram_matrix_50k_sentence_many_train = transform_text_per_sentence( X_tokens_many_train, unibigram_vectorizer_50k )\n",
        "X_unibigram_matrix_50k_sentence_many_test  = transform_text_per_sentence( X_tokens_many_test, unibigram_vectorizer_50k )\n",
        "\n",
        "\n",
        "# unibitrigram matrixes ( unigram + bigram + trigram matrixes )\n",
        "# a) with one token sentence\n",
        "X_unibitrigram_matrix_50k_sentence_one_train = unibitrigram_vectorizer_50k.transform( X_tokens_one_train )\n",
        "X_unibitrigram_matrix_50k_sentence_one_test  = unibitrigram_vectorizer_50k.transform( X_tokens_one_test )\n",
        "# b) with many token sentence\n",
        "X_unibitrigram_matrix_50k_sentence_many_train = transform_text_per_sentence( X_tokens_many_train, unibitrigram_vectorizer_50k )\n",
        "X_unibitrigram_matrix_50k_sentence_many_test  = transform_text_per_sentence( X_tokens_many_test, unibitrigram_vectorizer_50k )\n"
      ]
    },
    {
      "cell_type": "markdown",
      "metadata": {
        "id": "jX8fLDzgY49p"
      },
      "source": [
        "# 4. Modeling Sentiment Classifier Model with Naive Bayes"
      ]
    },
    {
      "cell_type": "markdown",
      "metadata": {
        "id": "7fKWQX56ZXG1"
      },
      "source": [
        "Modeling Naive Bayes"
      ]
    },
    {
      "cell_type": "code",
      "execution_count": 11,
      "metadata": {
        "id": "iJlFBllw9cdE"
      },
      "outputs": [],
      "source": [
        "# create Naive Bayes model with Gaussian distribution\n",
        "nb_model = GaussianNB()"
      ]
    },
    {
      "cell_type": "markdown",
      "metadata": {
        "id": "1pzhMo0hZC9t"
      },
      "source": [
        "# 5. Evaluate Sentiment Classifier Model with Naive Bayes"
      ]
    },
    {
      "cell_type": "code",
      "execution_count": 12,
      "metadata": {
        "id": "kgBf6jbUZCww"
      },
      "outputs": [],
      "source": [
        "# to evaluate model with train-test data\n",
        "def evaluate_model( X_train, X_test, y_train, y_test, input_model, type_token_schema='one', file_name='prediction_results' ):\n",
        "  # Convert sparse matrix into dense array\n",
        "  X_train_dense = X_train.toarray()\n",
        "  X_test_dense = X_test.toarray()\n",
        "\n",
        "  # Record start time\n",
        "  start_time = time.time()\n",
        "\n",
        "  # Train the model\n",
        "  input_model.fit( X_train_dense, y_train )\n",
        "\n",
        "  # Do prediction\n",
        "  y_pred = input_model.predict( X_test_dense )\n",
        "\n",
        "  # Record end time\n",
        "  end_time = time.time()\n",
        "\n",
        "  # Calculate running time\n",
        "  final_running_time = end_time - start_time\n",
        "\n",
        "  # default schema type\n",
        "  X_tokens_list = X_tokens_one_test.copy()\n",
        "  if ( type_token_schema!=\"one\" ):\n",
        "    X_tokens_list = X_tokens_many_test.copy()\n",
        "  # end if\n",
        "\n",
        "  # save prediction results in dataframe\n",
        "  predictions_results_csv = pd.concat( [ X_test_ori.copy(), X_tokens_list ], axis=1 )\n",
        "  predictions_results_csv['sentiment_real'] = y_test.copy()\n",
        "  predictions_results_csv['sentiment_prediction'] = y_pred.copy()\n",
        "  predictions_results_csv.to_csv( folder_path+\"results/\"+file_name+\".csv\", index=False )\n",
        "\n",
        "  # Compute evaluation metrics\n",
        "  print(\n",
        "    \"- Accuracy:\", accuracy_score( y_test, y_pred ), \"\\n\", \n",
        "    \"- Precision:\", precision_score( y_test, y_pred ), \"\\n\", \n",
        "    \"- Recall:\", recall_score( y_test, y_pred ), \"\\n\", \n",
        "    \"- F1-score:\", f1_score( y_test, y_pred ), \"\\n\", \n",
        "    \"- Running Time (seconds):\", final_running_time, \"\\n\", \n",
        "    \"- Running Time (minutes):\", final_running_time / 60\n",
        "  )\n",
        "\n",
        "  # Show confusion matrix\n",
        "  display_confusion_matrix_and_reports_results( y_test, y_pred, input_model )\n",
        "# end function\n",
        "\n",
        "# to show confusion matrix and classification report from current results\n",
        "def display_confusion_matrix_and_reports_results( y_true, y_pred, input_model ):\n",
        "  # show classification report\n",
        "  print( '\\n Classification Report: \\n', classification_report( y_true, y_pred ) )\n",
        "  \n",
        "  # show visualized confusion matrix \n",
        "  display_result = ConfusionMatrixDisplay( confusion_matrix=confusion_matrix( y_true, y_pred, labels=input_model.classes_ ), display_labels=input_model.classes_ )\n",
        "  display_result.plot()\n",
        "  plt.show()\n",
        "# end function"
      ]
    },
    {
      "cell_type": "markdown",
      "metadata": {
        "id": "L8359OljD6Of"
      },
      "source": [
        "## performance evaluation of Naive Bayes model"
      ]
    },
    {
      "cell_type": "markdown",
      "metadata": {},
      "source": [
        "### for max feature = 100k"
      ]
    },
    {
      "cell_type": "markdown",
      "metadata": {},
      "source": [
        "unigram matrixes"
      ]
    },
    {
      "cell_type": "code",
      "execution_count": 13,
      "metadata": {
        "colab": {
          "base_uri": "https://localhost:8080/"
        },
        "id": "PXEUdMOLBplB",
        "outputId": "c99d06bc-c675-4ce8-f8cf-f4b7c985917e"
      },
      "outputs": [
        {
          "name": "stdout",
          "output_type": "stream",
          "text": [
            "Evaluation Results for NB model with Unigram and One Sentence Matrix: \n",
            "\n",
            "- Accuracy: 0.637 \n",
            " - Precision: 0.6892265193370166 \n",
            " - Recall: 0.499 \n",
            " - F1-score: 0.5788863109048724 \n",
            " - Running Time (seconds): 7.376725673675537 \n",
            " - Running Time (minutes): 0.12294542789459229\n",
            "\n",
            " Classification Report: \n",
            "               precision    recall  f1-score   support\n",
            "\n",
            "           0       0.61      0.78      0.68      1000\n",
            "           1       0.69      0.50      0.58      1000\n",
            "\n",
            "    accuracy                           0.64      2000\n",
            "   macro avg       0.65      0.64      0.63      2000\n",
            "weighted avg       0.65      0.64      0.63      2000\n",
            "\n"
          ]
        },
        {
          "data": {
            "image/png": "[encoded data removed]",
            "text/plain": [
              "<Figure size 640x480 with 2 Axes>"
            ]
          },
          "metadata": {},
          "output_type": "display_data"
        },
        {
          "name": "stdout",
          "output_type": "stream",
          "text": [
            "Evaluation Results for NB model with Unigram and Many Sentence Matrix: \n",
            "\n",
            "- Accuracy: 0.637 \n",
            " - Precision: 0.6892265193370166 \n",
            " - Recall: 0.499 \n",
            " - F1-score: 0.5788863109048724 \n",
            " - Running Time (seconds): 6.138401031494141 \n",
            " - Running Time (minutes): 0.10230668385823567\n",
            "\n",
            " Classification Report: \n",
            "               precision    recall  f1-score   support\n",
            "\n",
            "           0       0.61      0.78      0.68      1000\n",
            "           1       0.69      0.50      0.58      1000\n",
            "\n",
            "    accuracy                           0.64      2000\n",
            "   macro avg       0.65      0.64      0.63      2000\n",
            "weighted avg       0.65      0.64      0.63      2000\n",
            "\n"
          ]
        },
        {
          "data": {
            "image/png": "[encoded data removed]",
            "text/plain": [
              "<Figure size 640x480 with 2 Axes>"
            ]
          },
          "metadata": {},
          "output_type": "display_data"
        }
      ],
      "source": [
        "# a) with one token sentence\n",
        "print( \"Evaluation Results for NB model with Unigram and One Sentence Matrix: \\n\" )\n",
        "evaluate_model( X_unigram_matrix_100k_sentence_one_train, X_unigram_matrix_100k_sentence_one_test, y_train, y_test, nb_model, type_token_schema='one', file_name='NB_Unigram_One-Sentence-Matrix_100k' )\n",
        "\n",
        "# b) with many token sentence\n",
        "print( \"Evaluation Results for NB model with Unigram and Many Sentence Matrix: \\n\" )\n",
        "evaluate_model( X_unigram_matrix_100k_sentence_many_train, X_unigram_matrix_100k_sentence_many_test, y_train, y_test, nb_model, type_token_schema='many', file_name='NB_Unigram_Many-Sentence-Matrix_100k' )\n"
      ]
    },
    {
      "cell_type": "markdown",
      "metadata": {},
      "source": [
        "bigram matrixes"
      ]
    },
    {
      "cell_type": "code",
      "execution_count": 14,
      "metadata": {},
      "outputs": [
        {
          "name": "stdout",
          "output_type": "stream",
          "text": [
            "Evaluation Results for NB model with Bigram and One Sentence Matrix: \n",
            "\n",
            "- Accuracy: 0.6235 \n",
            " - Precision: 0.6736990154711674 \n",
            " - Recall: 0.479 \n",
            " - F1-score: 0.559906487434249 \n",
            " - Running Time (seconds): 28.18088984489441 \n",
            " - Running Time (minutes): 0.46968149741490683\n",
            "\n",
            " Classification Report: \n",
            "               precision    recall  f1-score   support\n",
            "\n",
            "           0       0.60      0.77      0.67      1000\n",
            "           1       0.67      0.48      0.56      1000\n",
            "\n",
            "    accuracy                           0.62      2000\n",
            "   macro avg       0.63      0.62      0.62      2000\n",
            "weighted avg       0.63      0.62      0.62      2000\n",
            "\n"
          ]
        },
        {
          "data": {
            "image/png": "[encoded data removed]",
            "text/plain": [
              "<Figure size 640x480 with 2 Axes>"
            ]
          },
          "metadata": {},
          "output_type": "display_data"
        },
        {
          "name": "stdout",
          "output_type": "stream",
          "text": [
            "Evaluation Results for NB model with Bigram and Many Sentence Matrix: \n",
            "\n",
            "- Accuracy: 0.622 \n",
            " - Precision: 0.6763005780346821 \n",
            " - Recall: 0.468 \n",
            " - F1-score: 0.5531914893617021 \n",
            " - Running Time (seconds): 19.035866498947144 \n",
            " - Running Time (minutes): 0.31726444164911904\n",
            "\n",
            " Classification Report: \n",
            "               precision    recall  f1-score   support\n",
            "\n",
            "           0       0.59      0.78      0.67      1000\n",
            "           1       0.68      0.47      0.55      1000\n",
            "\n",
            "    accuracy                           0.62      2000\n",
            "   macro avg       0.63      0.62      0.61      2000\n",
            "weighted avg       0.63      0.62      0.61      2000\n",
            "\n"
          ]
        },
        {
          "data": {
            "image/png": "[encoded data removed]",
            "text/plain": [
              "<Figure size 640x480 with 2 Axes>"
            ]
          },
          "metadata": {},
          "output_type": "display_data"
        }
      ],
      "source": [
        "# a) with one token sentence\n",
        "print( \"Evaluation Results for NB model with Bigram and One Sentence Matrix: \\n\" )\n",
        "evaluate_model( X_bigram_matrix_100k_sentence_one_train, X_bigram_matrix_100k_sentence_one_test, y_train, y_test, nb_model, type_token_schema='one', file_name='NB_Bigram_One-Sentence-Matrix_100k' )\n",
        "\n",
        "# b) with many token sentence\n",
        "print( \"Evaluation Results for NB model with Bigram and Many Sentence Matrix: \\n\" )\n",
        "evaluate_model( X_bigram_matrix_100k_sentence_many_train, X_bigram_matrix_100k_sentence_many_test, y_train, y_test, nb_model, type_token_schema='many', file_name='NB_Bigram_Many-Sentence-Matrix_100k' )\n"
      ]
    },
    {
      "cell_type": "markdown",
      "metadata": {},
      "source": [
        "trigram matrixes"
      ]
    },
    {
      "cell_type": "code",
      "execution_count": 15,
      "metadata": {},
      "outputs": [
        {
          "name": "stdout",
          "output_type": "stream",
          "text": [
            "Evaluation Results for NB model with Trigram and One Sentence Matrix: \n",
            "\n",
            "- Accuracy: 0.5275 \n",
            " - Precision: 0.627906976744186 \n",
            " - Recall: 0.135 \n",
            " - F1-score: 0.2222222222222222 \n",
            " - Running Time (seconds): 22.065080404281616 \n",
            " - Running Time (minutes): 0.3677513400713603\n",
            "\n",
            " Classification Report: \n",
            "               precision    recall  f1-score   support\n",
            "\n",
            "           0       0.52      0.92      0.66      1000\n",
            "           1       0.63      0.14      0.22      1000\n",
            "\n",
            "    accuracy                           0.53      2000\n",
            "   macro avg       0.57      0.53      0.44      2000\n",
            "weighted avg       0.57      0.53      0.44      2000\n",
            "\n"
          ]
        },
        {
          "data": {
            "image/png": "[encoded data removed]",
            "text/plain": [
              "<Figure size 640x480 with 2 Axes>"
            ]
          },
          "metadata": {},
          "output_type": "display_data"
        },
        {
          "name": "stdout",
          "output_type": "stream",
          "text": [
            "Evaluation Results for NB model with Trigram and Many Sentence Matrix: \n",
            "\n",
            "- Accuracy: 0.528 \n",
            " - Precision: 0.6428571428571429 \n",
            " - Recall: 0.126 \n",
            " - F1-score: 0.21070234113712374 \n",
            " - Running Time (seconds): 18.932435274124146 \n",
            " - Running Time (minutes): 0.31554058790206907\n",
            "\n",
            " Classification Report: \n",
            "               precision    recall  f1-score   support\n",
            "\n",
            "           0       0.52      0.93      0.66      1000\n",
            "           1       0.64      0.13      0.21      1000\n",
            "\n",
            "    accuracy                           0.53      2000\n",
            "   macro avg       0.58      0.53      0.44      2000\n",
            "weighted avg       0.58      0.53      0.44      2000\n",
            "\n"
          ]
        },
        {
          "data": {
            "image/png": "[encoded data removed]",
            "text/plain": [
              "<Figure size 640x480 with 2 Axes>"
            ]
          },
          "metadata": {},
          "output_type": "display_data"
        }
      ],
      "source": [
        "# a) with one token sentence\n",
        "print( \"Evaluation Results for NB model with Trigram and One Sentence Matrix: \\n\" )\n",
        "evaluate_model( X_trigram_matrix_100k_sentence_one_train, X_trigram_matrix_100k_sentence_one_test, y_train, y_test, nb_model, type_token_schema='one', file_name='NB_Trigram_One-Sentence-Matrix_100k' )\n",
        "\n",
        "# b) with many token sentence\n",
        "print( \"Evaluation Results for NB model with Trigram and Many Sentence Matrix: \\n\" )\n",
        "evaluate_model( X_trigram_matrix_100k_sentence_many_train, X_trigram_matrix_100k_sentence_many_test, y_train, y_test, nb_model, type_token_schema='many', file_name='NB_Trigram_Many-Sentence-Matrix_100k' )\n"
      ]
    },
    {
      "cell_type": "markdown",
      "metadata": {},
      "source": [
        "unigram + bigram matrixes"
      ]
    },
    {
      "cell_type": "code",
      "execution_count": 16,
      "metadata": {},
      "outputs": [
        {
          "name": "stdout",
          "output_type": "stream",
          "text": [
            "Evaluation Results for NB model with Unigram + Bigram and One Sentence Matrix: \n",
            "\n",
            "- Accuracy: 0.6315 \n",
            " - Precision: 0.6813793103448276 \n",
            " - Recall: 0.494 \n",
            " - F1-score: 0.5727536231884058 \n",
            " - Running Time (seconds): 25.45093870162964 \n",
            " - Running Time (minutes): 0.4241823116938273\n",
            "\n",
            " Classification Report: \n",
            "               precision    recall  f1-score   support\n",
            "\n",
            "           0       0.60      0.77      0.68      1000\n",
            "           1       0.68      0.49      0.57      1000\n",
            "\n",
            "    accuracy                           0.63      2000\n",
            "   macro avg       0.64      0.63      0.62      2000\n",
            "weighted avg       0.64      0.63      0.62      2000\n",
            "\n"
          ]
        },
        {
          "data": {
            "image/png": "[encoded data removed]",
            "text/plain": [
              "<Figure size 640x480 with 2 Axes>"
            ]
          },
          "metadata": {},
          "output_type": "display_data"
        },
        {
          "name": "stdout",
          "output_type": "stream",
          "text": [
            "Evaluation Results for NB model with Unigram + Bigram and Many Sentence Matrix: \n",
            "\n",
            "- Accuracy: 0.634 \n",
            " - Precision: 0.6866295264623955 \n",
            " - Recall: 0.493 \n",
            " - F1-score: 0.5739231664726426 \n",
            " - Running Time (seconds): 18.83155107498169 \n",
            " - Running Time (minutes): 0.31385918458302814\n",
            "\n",
            " Classification Report: \n",
            "               precision    recall  f1-score   support\n",
            "\n",
            "           0       0.60      0.78      0.68      1000\n",
            "           1       0.69      0.49      0.57      1000\n",
            "\n",
            "    accuracy                           0.63      2000\n",
            "   macro avg       0.65      0.63      0.63      2000\n",
            "weighted avg       0.65      0.63      0.63      2000\n",
            "\n"
          ]
        },
        {
          "data": {
            "image/png": "[encoded data removed]",
            "text/plain": [
              "<Figure size 640x480 with 2 Axes>"
            ]
          },
          "metadata": {},
          "output_type": "display_data"
        }
      ],
      "source": [
        "# a) with one token sentence\n",
        "print( \"Evaluation Results for NB model with Unigram + Bigram and One Sentence Matrix: \\n\" )\n",
        "evaluate_model( X_unibigram_matrix_100k_sentence_one_train, X_unibigram_matrix_100k_sentence_one_test, y_train, y_test, nb_model, type_token_schema='one', file_name='NB_Uni-Bigram_One-Sentence-Matrix_100k' )\n",
        "\n",
        "# b) with many token sentence\n",
        "print( \"Evaluation Results for NB model with Unigram + Bigram and Many Sentence Matrix: \\n\" )\n",
        "evaluate_model( X_unibigram_matrix_100k_sentence_many_train, X_unibigram_matrix_100k_sentence_many_test, y_train, y_test, nb_model, type_token_schema='many', file_name='NB_Uni-Bigram_Many-Sentence-Matrix_100k' )\n"
      ]
    },
    {
      "cell_type": "markdown",
      "metadata": {},
      "source": [
        "unigram + bigram + trigram matrixes"
      ]
    },
    {
      "cell_type": "code",
      "execution_count": 17,
      "metadata": {},
      "outputs": [
        {
          "name": "stdout",
          "output_type": "stream",
          "text": [
            "Evaluation Results for NB model with Unigram + Bigram + Trigram and One Sentence Matrix: \n",
            "\n",
            "- Accuracy: 0.61 \n",
            " - Precision: 0.6845637583892618 \n",
            " - Recall: 0.408 \n",
            " - F1-score: 0.5112781954887218 \n",
            " - Running Time (seconds): 22.46806001663208 \n",
            " - Running Time (minutes): 0.374467666943868\n",
            "\n",
            " Classification Report: \n",
            "               precision    recall  f1-score   support\n",
            "\n",
            "           0       0.58      0.81      0.68      1000\n",
            "           1       0.68      0.41      0.51      1000\n",
            "\n",
            "    accuracy                           0.61      2000\n",
            "   macro avg       0.63      0.61      0.59      2000\n",
            "weighted avg       0.63      0.61      0.59      2000\n",
            "\n"
          ]
        },
        {
          "data": {
            "image/png": "[encoded data removed]",
            "text/plain": [
              "<Figure size 640x480 with 2 Axes>"
            ]
          },
          "metadata": {},
          "output_type": "display_data"
        },
        {
          "name": "stdout",
          "output_type": "stream",
          "text": [
            "Evaluation Results for NB model with Unigram + Bigram + Trigram and Many Sentence Matrix: \n",
            "\n",
            "- Accuracy: 0.6065 \n",
            " - Precision: 0.6852173913043478 \n",
            " - Recall: 0.394 \n",
            " - F1-score: 0.5003174603174603 \n",
            " - Running Time (seconds): 16.734422206878662 \n",
            " - Running Time (minutes): 0.278907036781311\n",
            "\n",
            " Classification Report: \n",
            "               precision    recall  f1-score   support\n",
            "\n",
            "           0       0.57      0.82      0.68      1000\n",
            "           1       0.69      0.39      0.50      1000\n",
            "\n",
            "    accuracy                           0.61      2000\n",
            "   macro avg       0.63      0.61      0.59      2000\n",
            "weighted avg       0.63      0.61      0.59      2000\n",
            "\n"
          ]
        },
        {
          "data": {
            "image/png": "[encoded data removed]",
            "text/plain": [
              "<Figure size 640x480 with 2 Axes>"
            ]
          },
          "metadata": {},
          "output_type": "display_data"
        }
      ],
      "source": [
        "# a) with one token sentence\n",
        "print( \"Evaluation Results for NB model with Unigram + Bigram + Trigram and One Sentence Matrix: \\n\" )\n",
        "evaluate_model( X_unibitrigram_matrix_100k_sentence_one_train, X_unibitrigram_matrix_100k_sentence_one_test, y_train, y_test, nb_model, type_token_schema='one', file_name='NB_Uni-Bi-Trigram_One-Sentence-Matrix_100k' )\n",
        "\n",
        "# b) with many token sentence\n",
        "print( \"Evaluation Results for NB model with Unigram + Bigram + Trigram and Many Sentence Matrix: \\n\" )\n",
        "evaluate_model( X_unibitrigram_matrix_100k_sentence_many_train, X_unibitrigram_matrix_100k_sentence_many_test, y_train, y_test, nb_model, type_token_schema='many', file_name='NB_Uni-Bi-Trigram_Many-Sentence-Matrix_100k' )\n"
      ]
    }
  ],
  "metadata": {
    "colab": {
      "collapsed_sections": [
        "KzMEeOkavMjV",
        "3ebk9Wc27HcE",
        "i41PFBuDid6R",
        "KSOxmqO3KtpN",
        "T2poRHkNKzGK",
        "v4cZOKjENEX2",
        "SooSBRtbwXrt",
        "qv7YPnuexT88"
      ],
      "provenance": []
    },
    "kernelspec": {
      "display_name": "Python 3",
      "name": "python3"
    },
    "language_info": {
      "codemirror_mode": {
        "name": "ipython",
        "version": 3
      },
      "file_extension": ".py",
      "mimetype": "text/x-python",
      "name": "python",
      "nbconvert_exporter": "python",
      "pygments_lexer": "ipython3",
      "version": "3.12.3"
    }
  },
  "nbformat": 4,
  "nbformat_minor": 0
}
